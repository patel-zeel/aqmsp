{
 "cells": [
  {
   "cell_type": "code",
   "execution_count": 3,
   "metadata": {},
   "outputs": [
    {
     "name": "stdout",
     "output_type": "stream",
     "text": [
      "(10, 1)\n",
      "Y_test (10,)\n",
      "(5, 10, 1)\n",
      "(10, 1)\n",
      "[[0.59292073]\n",
      " [0.59558413]\n",
      " [0.63433586]\n",
      " [0.48736601]\n",
      " [0.21674875]\n",
      " [0.43532664]\n",
      " [0.32783166]\n",
      " [0.55528813]\n",
      " [0.60509845]\n",
      " [0.51492615]]\n",
      "[[1.]\n",
      " [1.]\n",
      " [1.]\n",
      " [0.]\n",
      " [0.]\n",
      " [0.]\n",
      " [0.]\n",
      " [1.]\n",
      " [1.]\n",
      " [1.]]\n"
     ]
    },
    {
     "data": {
      "text/plain": [
       "0.52"
      ]
     },
     "execution_count": 3,
     "metadata": {},
     "output_type": "execute_result"
    }
   ],
   "source": [
    "import numpy as np\n",
    "np.random.seed(0)\n",
    "\n",
    "# model(X_test, training = True)\n",
    "array = lambda: np.random.rand(10, 1)\n",
    "print(array().shape)\n",
    "Y_test = np.array([1,0,1,1,0,1,1,1,0,0])\n",
    "print(\"Y_test\", Y_test.shape)\n",
    "\n",
    "preds = np.array([array() for _ in range(5)])\n",
    "print(preds.shape)\n",
    "preds = preds.mean(axis=0)\n",
    "print(preds.shape)\n",
    "print(preds)\n",
    "Y_pred = np.round(preds)\n",
    "print(Y_pred)\n",
    "test_accuracy = np.mean(Y_pred == Y_test)\n",
    "# test_accuracy = np.sum(Y_pred == Y_test) / len(Y_test)\n",
    "# test_accuracy_list.append(test_accuracy)\n",
    "test_accuracy"
   ]
  }
 ],
 "metadata": {
  "kernelspec": {
   "display_name": "base",
   "language": "python",
   "name": "python3"
  },
  "language_info": {
   "codemirror_mode": {
    "name": "ipython",
    "version": 3
   },
   "file_extension": ".py",
   "mimetype": "text/x-python",
   "name": "python",
   "nbconvert_exporter": "python",
   "pygments_lexer": "ipython3",
   "version": "3.9.5"
  },
  "orig_nbformat": 4
 },
 "nbformat": 4,
 "nbformat_minor": 2
}
