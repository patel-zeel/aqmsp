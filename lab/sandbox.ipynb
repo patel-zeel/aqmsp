{
 "cells": [
  {
   "cell_type": "code",
   "execution_count": 59,
   "metadata": {},
   "outputs": [],
   "source": [
    "import os\n",
    "import numpy as np\n",
    "import botocore\n",
    "import boto3\n",
    "from glob import glob\n",
    "import pandas as pd\n",
    "import string\n",
    "from joblib import Parallel, delayed\n",
    "from time import time\n",
    "\n",
    "from aqmsp.debug_utils import verbose_print, set_verbose"
   ]
  },
  {
   "cell_type": "code",
   "execution_count": 62,
   "metadata": {},
   "outputs": [
    {
     "name": "stdout",
     "output_type": "stream",
     "text": [
      "Found 589 locations\n",
      "Using temporary directory /tmp/fzgabeunyo\n",
      "Downloaded all files in 35.51127529144287 seconds\n"
     ]
    }
   ],
   "source": [
    "def create_station_ds(self, save_dir: str, n_jobs: int = 1) -> None:\n",
    "    \"\"\"Create a dataset containing latitude-longitude information by reading historical data from OpenAQ. The latitude-longitude information is not available in the raw data files from CPCB.\n",
    "    \n",
    "    Args:\n",
    "        save_dir (str): Directory to save the dataset.\n",
    "        n_jobs (int, optional): Number of parallel jobs to run. Defaults to 1.\n",
    "    \"\"\"\n",
    "    \n",
    "    s3 = boto3.client('s3', config=botocore.config.Config(signature_version=botocore.UNSIGNED))\n",
    "    \n",
    "    source_bucket = 'openaq-data-archive'\n",
    "    \n",
    "    # Get all locations in India provided by CPCB\n",
    "    prefix = 'records/csv.gz/provider=caaqm/country=in/'\n",
    "    object = s3.list_objects_v2(Bucket=source_bucket, Prefix=prefix, Delimiter='/')\n",
    "    \n",
    "    all_location_prefixes = [common_prefix['Prefix'] for common_prefix in object.get('CommonPrefixes', [])]\n",
    "    verbose_print(f\"Found {len(all_location_prefixes)} locations\")\n",
    "    \n",
    "    # For each location, get one file\n",
    "    folder_name = ''.join(np.random.choice(list(string.ascii_lowercase), 10))\n",
    "    tmp_dir = os.path.join(\"/tmp\", folder_name)\n",
    "    os.makedirs(tmp_dir, exist_ok=True)\n",
    "    verbose_print(f\"Using temporary directory {tmp_dir}\")\n",
    "    def get_one_file(prefix):\n",
    "        s3 = boto3.client('s3', config=botocore.config.Config(signature_version=botocore.UNSIGNED))\n",
    "        object = s3.list_objects_v2(Bucket=source_bucket, Prefix=prefix)\n",
    "        all_files = [file['Key'] for file in object.get('Contents', [])]\n",
    "        file = np.random.choice(all_files)\n",
    "        \n",
    "        # Download the file\n",
    "        file_name = file.split('/')[-1]\n",
    "        download_path = os.path.join(tmp_dir, file_name)\n",
    "        s3.download_file(source_bucket, file, download_path)\n",
    "    \n",
    "    init = time()\n",
    "    Parallel(n_jobs=n_jobs)(delayed(get_one_file)(prefix) for prefix in all_location_prefixes)\n",
    "    check_files = glob(os.path.join(tmp_dir, '*.csv.gz'))\n",
    "    assert len(check_files) == len(all_location_prefixes), f\"Downloaded {len(check_files)} files, expected {len(all_location_prefixes)}\"\n",
    "    verbose_print(f\"Downloaded all files in {time() - init} seconds\")\n",
    "    \n",
    "    # Find the latitude-longitude information\n",
    "    def get_lat_lon(file):\n",
    "        df = pd.read_csv(file)\n",
    "        return {df.location.iloc[0]: {\"latitude\": float(df.latitude.iloc[0]), \"longitude\": float(df.longitude.iloc[0])}}\n",
    "    \n",
    "    init = time()\n",
    "    lat_lon_dict = Parallel(n_jobs=n_jobs)(delayed(get_lat_lon)(file) for file in check_files)\n",
    "    verbose_print(f\"Found latitude-longitude information for {len(lat_lon_dict)} locations in {time() - init} seconds\")\n",
    "    \n",
    "    # create a dataframe\n",
    "    df = pd.DataFrame.from_dict({k: v for d in lat_lon_dict for k, v in d.items()}, orient='index')\n",
    "    verbose_print(df.head())\n",
    "    \n",
    "    # delete all files\n",
    "    for file in check_files:\n",
    "        os.remove(file)\n",
    "\n",
    "set_verbose(True)\n",
    "create_station_ds(None, None, n_jobs=32)"
   ]
  },
  {
   "cell_type": "code",
   "execution_count": 15,
   "metadata": {},
   "outputs": [
    {
     "name": "stdout",
     "output_type": "stream",
     "text": [
      "download: s3://openaq-data-archive/records/csv.gz/provider=caaqm/country=in/locationid=10484/year=2022/month=10/location-10484-20221031.csv.gz to ./location-10484-20221031.csv.gz\n"
     ]
    }
   ],
   "source": [
    "# !aws s3 --no-sign-request cp s3://openaq-data-archive/records/csv.gz/provider=caaqm/country=in/locationid=10484/year=2022/month=10/location-10484-20221031.csv.gz .\n",
    "!aws s3 --no-sign-request ls s3://openaq-data-archive/records/csv.gz/provider=caaqm/country=in"
   ]
  },
  {
   "cell_type": "code",
   "execution_count": 16,
   "metadata": {},
   "outputs": [
    {
     "data": {
      "text/html": [
       "<div>\n",
       "<style scoped>\n",
       "    .dataframe tbody tr th:only-of-type {\n",
       "        vertical-align: middle;\n",
       "    }\n",
       "\n",
       "    .dataframe tbody tr th {\n",
       "        vertical-align: top;\n",
       "    }\n",
       "\n",
       "    .dataframe thead th {\n",
       "        text-align: right;\n",
       "    }\n",
       "</style>\n",
       "<table border=\"1\" class=\"dataframe\">\n",
       "  <thead>\n",
       "    <tr style=\"text-align: right;\">\n",
       "      <th></th>\n",
       "      <th>location_id</th>\n",
       "      <th>sensors_id</th>\n",
       "      <th>location</th>\n",
       "      <th>datetime</th>\n",
       "      <th>lat</th>\n",
       "      <th>lon</th>\n",
       "      <th>parameter</th>\n",
       "      <th>units</th>\n",
       "      <th>value</th>\n",
       "    </tr>\n",
       "  </thead>\n",
       "  <tbody>\n",
       "    <tr>\n",
       "      <th>0</th>\n",
       "      <td>10484</td>\n",
       "      <td>34781</td>\n",
       "      <td>Sri Aurobindo Marg, Delhi - DPCC-10484</td>\n",
       "      <td>2022-10-31T06:15:00+05:30</td>\n",
       "      <td>28.531346</td>\n",
       "      <td>77.190156</td>\n",
       "      <td>pm10</td>\n",
       "      <td>µg/m³</td>\n",
       "      <td>309.0</td>\n",
       "    </tr>\n",
       "    <tr>\n",
       "      <th>1</th>\n",
       "      <td>10484</td>\n",
       "      <td>34772</td>\n",
       "      <td>Sri Aurobindo Marg, Delhi - DPCC-10484</td>\n",
       "      <td>2022-10-31T06:15:00+05:30</td>\n",
       "      <td>28.531346</td>\n",
       "      <td>77.190156</td>\n",
       "      <td>pm25</td>\n",
       "      <td>µg/m³</td>\n",
       "      <td>232.0</td>\n",
       "    </tr>\n",
       "    <tr>\n",
       "      <th>2</th>\n",
       "      <td>10484</td>\n",
       "      <td>34757</td>\n",
       "      <td>Sri Aurobindo Marg, Delhi - DPCC-10484</td>\n",
       "      <td>2022-10-31T06:15:00+05:30</td>\n",
       "      <td>28.531346</td>\n",
       "      <td>77.190156</td>\n",
       "      <td>o3</td>\n",
       "      <td>µg/m³</td>\n",
       "      <td>6.1</td>\n",
       "    </tr>\n",
       "    <tr>\n",
       "      <th>3</th>\n",
       "      <td>10484</td>\n",
       "      <td>34761</td>\n",
       "      <td>Sri Aurobindo Marg, Delhi - DPCC-10484</td>\n",
       "      <td>2022-10-31T06:15:00+05:30</td>\n",
       "      <td>28.531346</td>\n",
       "      <td>77.190156</td>\n",
       "      <td>co</td>\n",
       "      <td>µg/m³</td>\n",
       "      <td>1300.0</td>\n",
       "    </tr>\n",
       "    <tr>\n",
       "      <th>4</th>\n",
       "      <td>10484</td>\n",
       "      <td>34758</td>\n",
       "      <td>Sri Aurobindo Marg, Delhi - DPCC-10484</td>\n",
       "      <td>2022-10-31T06:15:00+05:30</td>\n",
       "      <td>28.531346</td>\n",
       "      <td>77.190156</td>\n",
       "      <td>no2</td>\n",
       "      <td>µg/m³</td>\n",
       "      <td>25.4</td>\n",
       "    </tr>\n",
       "    <tr>\n",
       "      <th>5</th>\n",
       "      <td>10484</td>\n",
       "      <td>34759</td>\n",
       "      <td>Sri Aurobindo Marg, Delhi - DPCC-10484</td>\n",
       "      <td>2022-10-31T06:15:00+05:30</td>\n",
       "      <td>28.531346</td>\n",
       "      <td>77.190156</td>\n",
       "      <td>so2</td>\n",
       "      <td>µg/m³</td>\n",
       "      <td>3.8</td>\n",
       "    </tr>\n",
       "  </tbody>\n",
       "</table>\n",
       "</div>"
      ],
      "text/plain": [
       "   location_id  sensors_id                                location  \\\n",
       "0        10484       34781  Sri Aurobindo Marg, Delhi - DPCC-10484   \n",
       "1        10484       34772  Sri Aurobindo Marg, Delhi - DPCC-10484   \n",
       "2        10484       34757  Sri Aurobindo Marg, Delhi - DPCC-10484   \n",
       "3        10484       34761  Sri Aurobindo Marg, Delhi - DPCC-10484   \n",
       "4        10484       34758  Sri Aurobindo Marg, Delhi - DPCC-10484   \n",
       "5        10484       34759  Sri Aurobindo Marg, Delhi - DPCC-10484   \n",
       "\n",
       "                    datetime        lat        lon parameter  units   value  \n",
       "0  2022-10-31T06:15:00+05:30  28.531346  77.190156      pm10  µg/m³   309.0  \n",
       "1  2022-10-31T06:15:00+05:30  28.531346  77.190156      pm25  µg/m³   232.0  \n",
       "2  2022-10-31T06:15:00+05:30  28.531346  77.190156        o3  µg/m³     6.1  \n",
       "3  2022-10-31T06:15:00+05:30  28.531346  77.190156        co  µg/m³  1300.0  \n",
       "4  2022-10-31T06:15:00+05:30  28.531346  77.190156       no2  µg/m³    25.4  \n",
       "5  2022-10-31T06:15:00+05:30  28.531346  77.190156       so2  µg/m³     3.8  "
      ]
     },
     "execution_count": 16,
     "metadata": {},
     "output_type": "execute_result"
    }
   ],
   "source": [
    "import pandas as pd\n",
    "\n",
    "df = pd.read_csv('location-10484-20221031.csv.gz')\n",
    "df"
   ]
  },
  {
   "cell_type": "code",
   "execution_count": 33,
   "metadata": {},
   "outputs": [
    {
     "data": {
      "text/plain": [
       "{'ResponseMetadata': {'RequestId': 'C500FDSVP3JBAEMX',\n",
       "  'HostId': 'N3vFgGpxdYO3HWuqeXS51PxRLdR/aB7KPW8FceJUPTTN9Mnms5nZTLqwlgbiWeUYTkNVZkB4bAaTjXAMmWeVmw==',\n",
       "  'HTTPStatusCode': 200,\n",
       "  'HTTPHeaders': {'x-amz-id-2': 'N3vFgGpxdYO3HWuqeXS51PxRLdR/aB7KPW8FceJUPTTN9Mnms5nZTLqwlgbiWeUYTkNVZkB4bAaTjXAMmWeVmw==',\n",
       "   'x-amz-request-id': 'C500FDSVP3JBAEMX',\n",
       "   'date': 'Fri, 22 Sep 2023 04:54:10 GMT',\n",
       "   'last-modified': 'Mon, 31 Oct 2022 18:34:12 GMT',\n",
       "   'etag': '\"946df341881e1eb43fcb83a2beff45e0\"',\n",
       "   'accept-ranges': 'bytes',\n",
       "   'content-type': 'binary/octet-stream',\n",
       "   'server': 'AmazonS3',\n",
       "   'content-length': '246'},\n",
       "  'RetryAttempts': 0},\n",
       " 'AcceptRanges': 'bytes',\n",
       " 'LastModified': datetime.datetime(2022, 10, 31, 18, 34, 12, tzinfo=tzutc()),\n",
       " 'ContentLength': 246,\n",
       " 'ETag': '\"946df341881e1eb43fcb83a2beff45e0\"',\n",
       " 'ContentType': 'binary/octet-stream',\n",
       " 'Metadata': {},\n",
       " 'Body': <botocore.response.StreamingBody at 0x7f546d4104c0>}"
      ]
     },
     "execution_count": 33,
     "metadata": {},
     "output_type": "execute_result"
    }
   ],
   "source": [
    "from io import BytesIO\n",
    "\n",
    "# S3 object details\n",
    "bucket_name = 'openaq-data-archive'\n",
    "object_key = 'records/csv.gz/provider=caaqm/country=in/locationid=10484/year=2022/month=10/location-10484-20221031.csv.gz'\n",
    "\n",
    "# Read the S3 object into a pandas DataFrame\n",
    "s3_object = s3.get_object(Bucket=bucket_name, Key=object_key)\n",
    "# df = pd.read_csv(BytesIO(s3_object['Body'].read()))\n",
    "# df\n",
    "s3_object"
   ]
  },
  {
   "cell_type": "code",
   "execution_count": 35,
   "metadata": {},
   "outputs": [
    {
     "data": {
      "text/plain": [
       "b'\\x1f\\x8b\\x08\\x00#\\x15`c\\x02\\xff\\xb4\\xd0Mj\\xc30\\x10\\x05\\xe0}N!\\xb2\\xedX\\x1d\\xfdY\\xb2w%\\xd9\\x16\\n\\xed\\xbe\\xa8\\xb1H\\x05\\xb2\\x14$\\xb9\\x17+\\xbd@N\\xd6\\xb4\\x14\\xdb=\\x80w\\x8f\\xc7\\xc0\\xc7\\xbc\\x90N\\xb6\\xfa\\x14_\\xfd\\x00\\xc5\\xc5\\x92r\\xf9\\x89\\xe1\\xaf\\x86\\xc1VW\\xfd\\xe8 \\xd8zk#\\\\l\\xb6\\xa3\\xab.\\xc3\\x14}-\\xf0a\\xc3\\xe4v\\x0c\\xa5\\x91 \\xa46\\x0c\\xf6\\xcf\\xd9\\x93\\x87)\\xa77\\x1f\\x87D\\x1em>\\x039\\xba\\xf0\\xeeIC\\x8eO\\x87C\\xf3{\\xbd\\x07\\x8e\\x9c\\xdfr#\\xd8\\x0b\\xb6=S=\\xe2\\x1d\\xaa^ pC\\x95`B\\xb6\\xa05e\\x1d2\\xd5\\xc2ed\\x08\\xd7\\xaf\\xf3\\xfdx\\xfd\\x04\\x81\\x1d\\xc5E\\xd5|;\\x95\\xabY\\xe5\\x82\\xafU\\xa5\\xb7R\\x93\\x98\\xcd\\x96\\xb2El7[\\xf7\\x94f\\x91\\t\\xc4\\x7fo\\x9a\\xad\\xd0\\x98\\xf8\\xb2\\xad\\xa2rev[\\x99ee\\njv\\xdf\\x00\\x00\\x00\\xff\\xff\\x03\\x00t\\x1e\\xb8\\xa0\\x01\\x03\\x00\\x00'"
      ]
     },
     "execution_count": 35,
     "metadata": {},
     "output_type": "execute_result"
    }
   ],
   "source": [
    "s3_object['Body'].read()"
   ]
  }
 ],
 "metadata": {
  "kernelspec": {
   "display_name": "base",
   "language": "python",
   "name": "python3"
  },
  "language_info": {
   "codemirror_mode": {
    "name": "ipython",
    "version": 3
   },
   "file_extension": ".py",
   "mimetype": "text/x-python",
   "name": "python",
   "nbconvert_exporter": "python",
   "pygments_lexer": "ipython3",
   "version": "3.9.5"
  },
  "orig_nbformat": 4
 },
 "nbformat": 4,
 "nbformat_minor": 2
}
